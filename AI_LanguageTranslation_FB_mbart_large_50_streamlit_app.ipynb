{
  "nbformat": 4,
  "nbformat_minor": 0,
  "metadata": {
    "accelerator": "GPU",
    "colab": {
      "provenance": [],
      "gpuType": "T4"
    },
    "kernelspec": {
      "display_name": "Python 3",
      "name": "python3"
    }
  },
  "cells": [
    {
      "cell_type": "markdown",
      "source": [
        "https://huggingface.co/facebook/mbart-large-50-many-to-many-mmt"
      ],
      "metadata": {
        "id": "swQGAzYx12YL"
      }
    },
    {
      "cell_type": "markdown",
      "source": [
        "# facebook/mbart-large-50-many-to-many-mmt"
      ],
      "metadata": {
        "id": "8t2P8x3A150w"
      }
    },
    {
      "cell_type": "code",
      "metadata": {
        "colab": {
          "base_uri": "https://localhost:8080/"
        },
        "id": "XJJesd3necMO",
        "outputId": "9b98f927-474e-4b40-adaf-5260ad65283d"
      },
      "source": [
        "!pip install -q streamlit\n",
        "# !pip install streamlit\n",
        "!pip install ngrok -q\n",
        "!pip install -q sentencepiece\n",
        "!pip install -q git+https://github.com/huggingface/transformers.git"
      ],
      "execution_count": null,
      "outputs": [
        {
          "output_type": "stream",
          "name": "stdout",
          "text": [
            "  Installing build dependencies ... \u001b[?25l\u001b[?25hdone\n",
            "  Getting requirements to build wheel ... \u001b[?25l\u001b[?25hdone\n",
            "  Preparing metadata (pyproject.toml) ... \u001b[?25l\u001b[?25hdone\n"
          ]
        }
      ]
    },
    {
      "cell_type": "code",
      "source": [
        "from transformers import MBartForConditionalGeneration, MBart50Tokenizer"
      ],
      "metadata": {
        "id": "IWZGTEqktC8f"
      },
      "execution_count": null,
      "outputs": []
    },
    {
      "cell_type": "code",
      "source": [
        "def download_model():\n",
        "    model_name = \"facebook/mbart-large-50-many-to-many-mmt\"\n",
        "    model = MBartForConditionalGeneration.from_pretrained(model_name)\n",
        "    tokenizer = MBart50Tokenizer.from_pretrained(model_name)\n",
        "    return model, tokenizer"
      ],
      "metadata": {
        "id": "xtQYHeWzrote"
      },
      "execution_count": null,
      "outputs": []
    },
    {
      "cell_type": "code",
      "source": [
        "model, tokenizer = download_model()"
      ],
      "metadata": {
        "colab": {
          "base_uri": "https://localhost:8080/"
        },
        "id": "Axr299qerrzQ",
        "outputId": "719544a9-0906-4808-e9c2-a1dd3a956cf2"
      },
      "execution_count": null,
      "outputs": [
        {
          "output_type": "stream",
          "name": "stderr",
          "text": [
            "/usr/local/lib/python3.10/dist-packages/huggingface_hub/utils/_token.py:72: UserWarning: \n",
            "The secret `HF_TOKEN` does not exist in your Colab secrets.\n",
            "To authenticate with the Hugging Face Hub, create a token in your settings tab (https://huggingface.co/settings/tokens), set it as secret in your Google Colab and restart your session.\n",
            "You will be able to reuse this secret in all of your notebooks.\n",
            "Please note that authentication is recommended but still optional to access public models or datasets.\n",
            "  warnings.warn(\n"
          ]
        }
      ]
    },
    {
      "cell_type": "code",
      "source": [
        "model_name = \"facebook/mbart-large-50-many-to-many-mmt\"\n",
        "tokenizer.src_lang = \"hi_IN\"\n",
        "dest_lang = \"en_XX\"\n",
        "\n",
        "text = 'आधुनिक मानव ( होमो सेपियंस) अफ्रीका से भारतीय उपमहाद्वीप में 55,000 साल पहले आये थे।'\n",
        "\n",
        "encoded_hindi_text = tokenizer(text, return_tensors=\"pt\")\n",
        "generated_tokens = model.generate(**encoded_hindi_text, forced_bos_token_id=tokenizer.lang_code_to_id[dest_lang])\n",
        "out = tokenizer.batch_decode(generated_tokens, skip_special_tokens=True)\n",
        "print(out)"
      ],
      "metadata": {
        "colab": {
          "base_uri": "https://localhost:8080/"
        },
        "id": "JBxfqcURroq9",
        "outputId": "2a4f0947-4fe1-4799-9e50-c52aa31a9888"
      },
      "execution_count": null,
      "outputs": [
        {
          "output_type": "stream",
          "name": "stdout",
          "text": [
            "['Modern humans (Homo sapiens) came from Africa to the Indian sub - continent 55,000 years ago.']\n"
          ]
        }
      ]
    },
    {
      "cell_type": "code",
      "source": [
        "model_name = \"facebook/mbart-large-50-many-to-many-mmt\"\n",
        "tokenizer.src_lang = \"en_XX\"\n",
        "dest_lang = \"hi_IN\"\n",
        "\n",
        "text = 'Modern humans (Homo sapiens) came from Africa to the Indian sub - continent 55,000 years ago.'\n",
        "\n",
        "encoded_hindi_text = tokenizer(text, return_tensors=\"pt\")\n",
        "generated_tokens = model.generate(**encoded_hindi_text, forced_bos_token_id=tokenizer.lang_code_to_id[dest_lang])\n",
        "out = tokenizer.batch_decode(generated_tokens, skip_special_tokens=True)\n",
        "print(out)"
      ],
      "metadata": {
        "colab": {
          "base_uri": "https://localhost:8080/"
        },
        "id": "kjp-VPABxl3_",
        "outputId": "83acea76-7eac-4900-f5ae-8296a41d79de"
      },
      "execution_count": null,
      "outputs": [
        {
          "output_type": "stream",
          "name": "stdout",
          "text": [
            "['आधुनिक मानव (होमो sapiens) 55,000 वर्ष पूर्व अफ्रीका से लेकर भारतीय उपमहाद्वीप तक आए थे।']\n"
          ]
        }
      ]
    },
    {
      "cell_type": "code",
      "source": [
        "def lang_translator(text, source_lang, target_lang):\n",
        "\n",
        "    tokenizer.src_lang = source_lang\n",
        "    dest_lang = target_lang\n",
        "\n",
        "    encoded_hindi_text = tokenizer(text, return_tensors=\"pt\")\n",
        "    generated_tokens = model.generate(**encoded_hindi_text, forced_bos_token_id=tokenizer.lang_code_to_id[dest_lang])\n",
        "    out = tokenizer.batch_decode(generated_tokens, skip_special_tokens=True)\n",
        "    #print(out)\n",
        "    return out[0]"
      ],
      "metadata": {
        "id": "IJOtUZ9Hroi-"
      },
      "execution_count": null,
      "outputs": []
    },
    {
      "cell_type": "code",
      "source": [
        "text = 'Modern humans (Homo sapiens) came from Africa to the Indian sub - continent 55,000 years ago.'\n",
        "source_lang = 'en_XX'\n",
        "target_lang = 'hi_IN'\n",
        "result = lang_translator(text, source_lang, target_lang)\n",
        "print(\"Translation Text: \", result)"
      ],
      "metadata": {
        "colab": {
          "base_uri": "https://localhost:8080/"
        },
        "id": "5wuTlzdSyu9Y",
        "outputId": "4b4070f6-da97-478a-ebb4-6bc6804be619"
      },
      "execution_count": null,
      "outputs": [
        {
          "output_type": "stream",
          "name": "stdout",
          "text": [
            "Translation Text:  आधुनिक मानव (होमो sapiens) 55,000 वर्ष पूर्व अफ्रीका से लेकर भारतीय उपमहाद्वीप तक आए थे।\n"
          ]
        }
      ]
    },
    {
      "cell_type": "code",
      "source": [
        "text = 'भारत विश्व का सबसे बड़ा लोकतंत्र है।'\n",
        "source_lang = 'hi_IN'\n",
        "target_lang = 'en_XX'\n",
        "result = lang_translator(text, source_lang, target_lang)\n",
        "print(\"Translation Text: \", result)"
      ],
      "metadata": {
        "colab": {
          "base_uri": "https://localhost:8080/"
        },
        "id": "7JInQ6XTzaOu",
        "outputId": "09dec7e4-d2d6-4297-b587-ce4f79f3af58"
      },
      "execution_count": null,
      "outputs": [
        {
          "output_type": "stream",
          "name": "stdout",
          "text": [
            "Translation Text:  India is the largest democracy in the world.\n"
          ]
        }
      ]
    },
    {
      "cell_type": "code",
      "source": [
        "text = 'India is the largest democracy in the world.'\n",
        "source_lang = 'en_XX'\n",
        "target_lang = 'mr_IN'\n",
        "result = lang_translator(text, source_lang, target_lang)\n",
        "print(\"Translation Text: \", result)"
      ],
      "metadata": {
        "colab": {
          "base_uri": "https://localhost:8080/"
        },
        "id": "BmKGMsaEzwmn",
        "outputId": "a4056b4a-54bc-4ae8-b85e-6b3804ec9f14"
      },
      "execution_count": null,
      "outputs": [
        {
          "output_type": "stream",
          "name": "stdout",
          "text": [
            "Translation Text:  भारत जगातील सर ् वात मोठा लोकशाही आहे.\n"
          ]
        }
      ]
    },
    {
      "cell_type": "code",
      "source": [
        "text = 'India is the largest democracy in the world.'\n",
        "source_lang = 'en_XX'\n",
        "target_lang = 'th_TH'\n",
        "result = lang_translator(text, source_lang, target_lang)\n",
        "print(\"Translation Text: \", result)"
      ],
      "metadata": {
        "colab": {
          "base_uri": "https://localhost:8080/"
        },
        "id": "EaDNgRfOzaBZ",
        "outputId": "c2c11515-3948-4d4b-afd1-39286ea6a820"
      },
      "execution_count": null,
      "outputs": [
        {
          "output_type": "stream",
          "name": "stdout",
          "text": [
            "Translation Text:  อินเดียเป ็ นประชาธิปไตยที ่ ใหญ ่ ที ่ สุดในโลก\n"
          ]
        }
      ]
    },
    {
      "cell_type": "code",
      "source": [
        "text = 'อินเดียเป ็ นประชาธิปไตยที ่ ใหญ ่ ที ่ สุดในโลก'\n",
        "source_lang = 'th_TH'\n",
        "target_lang = 'en_XX'\n",
        "result = lang_translator(text, source_lang, target_lang)\n",
        "print(\"Translation Text: \", result)"
      ],
      "metadata": {
        "colab": {
          "base_uri": "https://localhost:8080/"
        },
        "id": "Odu3zKNI0xhc",
        "outputId": "f9028afd-5486-47fb-9618-287e30927ddc"
      },
      "execution_count": null,
      "outputs": [
        {
          "output_type": "stream",
          "name": "stdout",
          "text": [
            "Translation Text:  India is the largest democracy in the world.\n"
          ]
        }
      ]
    },
    {
      "cell_type": "code",
      "metadata": {
        "id": "CZjAlUgaeo8D"
      },
      "source": [
        "# !wget https://bin.equinox.io/c/4VmDzA7iaHb/ngrok-stable-linux-amd64.zip\n",
        "# !unzip ngrok-stable-linux-amd64.zip"
      ],
      "execution_count": null,
      "outputs": []
    },
    {
      "cell_type": "code",
      "metadata": {
        "id": "dnBsfCEFfGSq"
      },
      "source": [
        "# get_ipython().system_raw('./ngrok http 8501 &')"
      ],
      "execution_count": null,
      "outputs": []
    },
    {
      "cell_type": "code",
      "metadata": {
        "id": "PPAIt4-cfGV6"
      },
      "source": [
        "# !curl -s http://localhost:4040/api/tunnels | python3 -c \\\n",
        "#     'import sys, json; print(\"Execute the next cell and the go to the following URL: \" +json.load(sys.stdin)[\"tunnels\"][0][\"public_url\"])'"
      ],
      "execution_count": null,
      "outputs": []
    },
    {
      "cell_type": "code",
      "metadata": {
        "id": "3VvCsNQMfBq6"
      },
      "source": [
        "# !streamlit run \"drive/MyDrive/Demo/app.py\""
      ],
      "execution_count": null,
      "outputs": []
    },
    {
      "cell_type": "code",
      "source": [
        "%%writefile app.py\n",
        "# Paste your Streamlit app code here\n",
        "\n",
        "import streamlit as st\n",
        "st.write('# Streamlit calculator')\n",
        "number1= st.number_input('number 1')\n",
        "number2 = st.number_input('number 2')\n",
        "num3 = number1+number2\n",
        "st.write('# Answer is ',num3)\n"
      ],
      "metadata": {
        "colab": {
          "base_uri": "https://localhost:8080/"
        },
        "id": "OcVyJJODkkAv",
        "outputId": "a57a84ef-1ff9-48ce-c806-24b51139cfdb"
      },
      "execution_count": null,
      "outputs": [
        {
          "output_type": "stream",
          "name": "stdout",
          "text": [
            "Overwriting app.py\n"
          ]
        }
      ]
    },
    {
      "cell_type": "code",
      "source": [
        "%%writefile streamlit_app.py\n",
        "from transformers import MBartForConditionalGeneration, MBart50Tokenizer\n",
        "import streamlit as st\n",
        "\n",
        "@st.cache_data()\n",
        "def download_model():\n",
        "    model_name = \"facebook/mbart-large-50-many-to-many-mmt\"\n",
        "    model = MBartForConditionalGeneration.from_pretrained(model_name)\n",
        "    tokenizer = MBart50Tokenizer.from_pretrained(model_name)\n",
        "    return model, tokenizer\n",
        "\n",
        "st.title('Hindi to English Translator')\n",
        "text = st.text_area(\"Enter Text:\", value='', height=None, max_chars=None, key=None)\n",
        "model, tokenizer = download_model()\n",
        "\n",
        "if st.button('Translate to English'):\n",
        "    if text == '':\n",
        "        st.write('Please enter Hindi text for translation')\n",
        "    else:\n",
        "        model_name = \"facebook/mbart-large-50-many-to-many-mmt\"\n",
        "        tokenizer.src_lang = \"hi_IN\"\n",
        "        encoded_hindi_text = tokenizer(text, return_tensors=\"pt\")\n",
        "        generated_tokens = model.generate(**encoded_hindi_text, forced_bos_token_id=tokenizer.lang_code_to_id[\"en_XX\"])\n",
        "        out = tokenizer.batch_decode(generated_tokens, skip_special_tokens=True)\n",
        "        st.write('', str(out).strip('][\\''))\n",
        "else: pass"
      ],
      "metadata": {
        "colab": {
          "base_uri": "https://localhost:8080/"
        },
        "id": "FUwq-mcOpYpf",
        "outputId": "6943fa57-0554-49d7-91cf-7e8e680e1cd8"
      },
      "execution_count": null,
      "outputs": [
        {
          "output_type": "stream",
          "name": "stdout",
          "text": [
            "Overwriting streamlit_app.py\n"
          ]
        }
      ]
    },
    {
      "cell_type": "code",
      "source": [
        "# !npm install -g localtunnel\n"
      ],
      "metadata": {
        "id": "g4w02uykkrrD"
      },
      "execution_count": null,
      "outputs": []
    },
    {
      "cell_type": "code",
      "source": [
        "\n",
        "# get public IP\n",
        "\n",
        "!wget -q -O - ipv4.icanhazip.com"
      ],
      "metadata": {
        "colab": {
          "base_uri": "https://localhost:8080/"
        },
        "id": "fBrfWRtenCIc",
        "outputId": "e3281266-77f8-47cb-e806-c5ed0f7d6013"
      },
      "execution_count": null,
      "outputs": [
        {
          "output_type": "stream",
          "name": "stdout",
          "text": [
            "34.16.10.133\n"
          ]
        }
      ]
    },
    {
      "cell_type": "code",
      "source": [
        "!streamlit run app.py & npx localtunnel --port 8501"
      ],
      "metadata": {
        "colab": {
          "base_uri": "https://localhost:8080/"
        },
        "id": "5yhqygfhn_np",
        "outputId": "834dd9fa-fe7c-4b37-eab9-cd8ee0d33d3e"
      },
      "execution_count": null,
      "outputs": [
        {
          "output_type": "stream",
          "name": "stdout",
          "text": [
            "\u001b[?25l[..................] / rollbackFailedOptional: verb npm-session d074d8693b2222f\u001b[0m\u001b[K\r[..................] / rollbackFailedOptional: verb npm-session d074d8693b2222f\u001b[0m\u001b[K\r\n",
            "Collecting usage statistics. To deactivate, set browser.gatherUsageStats to False.\n",
            "\u001b[0m\n",
            "\u001b[K\u001b[?25hnpx: installed 22 in 3.083s\n",
            "your url is: https://cold-ways-ring.loca.lt\n",
            "\u001b[0m\n",
            "\u001b[34m\u001b[1m  You can now view your Streamlit app in your browser.\u001b[0m\n",
            "\u001b[0m\n",
            "\u001b[34m  Network URL: \u001b[0m\u001b[1mhttp://172.28.0.12:8501\u001b[0m\n",
            "\u001b[34m  External URL: \u001b[0m\u001b[1mhttp://34.16.10.133:8501\u001b[0m\n",
            "\u001b[0m\n",
            "\u001b[34m  Stopping...\u001b[0m\n",
            "^C\n"
          ]
        }
      ]
    },
    {
      "cell_type": "code",
      "source": [
        "!streamlit run streamlit_app.py & npx localtunnel --port 8501"
      ],
      "metadata": {
        "colab": {
          "base_uri": "https://localhost:8080/"
        },
        "id": "DNSq_Y2uoFR5",
        "outputId": "7370029e-188a-4505-a6ef-63a3d82c1ea8"
      },
      "execution_count": null,
      "outputs": [
        {
          "output_type": "stream",
          "name": "stdout",
          "text": [
            "\u001b[K\u001b[?25h\n",
            "Collecting usage statistics. To deactivate, set browser.gatherUsageStats to False.\n",
            "\u001b[0m\n",
            "npx: installed 22 in 3.799s\n",
            "your url is: https://loose-bugs-write.loca.lt\n",
            "\u001b[0m\n",
            "\u001b[34m\u001b[1m  You can now view your Streamlit app in your browser.\u001b[0m\n",
            "\u001b[0m\n",
            "\u001b[34m  Network URL: \u001b[0m\u001b[1mhttp://172.28.0.12:8501\u001b[0m\n",
            "\u001b[34m  External URL: \u001b[0m\u001b[1mhttp://34.16.10.133:8501\u001b[0m\n",
            "\u001b[0m\n",
            "^C\n"
          ]
        }
      ]
    }
  ]
}